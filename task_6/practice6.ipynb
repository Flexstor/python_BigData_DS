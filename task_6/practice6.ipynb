{
 "cells": [
  {
   "cell_type": "markdown",
   "source": [
    "## Практика 6\n"
   ],
   "metadata": {
    "collapsed": false,
    "pycharm": {
     "name": "#%% md\n"
    }
   }
  },
  {
   "cell_type": "markdown",
   "metadata": {
    "pycharm": {
     "name": "#%% md\n"
    }
   },
   "source": [
    "### Задание 1. Загрузка данных"
   ]
  },
  {
   "cell_type": "code",
   "execution_count": 221,
   "metadata": {
    "pycharm": {
     "name": "#%%\n"
    }
   },
   "outputs": [],
   "source": [
    "import numpy as np\n",
    "import pandas as pd\n",
    "import scipy.stats as sts"
   ]
  },
  {
   "cell_type": "code",
   "execution_count": 222,
   "outputs": [
    {
     "data": {
      "text/plain": "      dateRep  day  month  year  cases  deaths countriesAndTerritories geoId  \\\n0  14/12/2020   14     12  2020    746       6             Afghanistan    AF   \n1  13/12/2020   13     12  2020    298       9             Afghanistan    AF   \n2  12/12/2020   12     12  2020    113      11             Afghanistan    AF   \n3  12/12/2020   12     12  2020    113      11             Afghanistan    AF   \n4  11/12/2020   11     12  2020     63      10             Afghanistan    AF   \n\n  countryterritoryCode  popData2019 continentExp  \\\n0                  AFG   38041757.0         Asia   \n1                  AFG   38041757.0         Asia   \n2                  AFG   38041757.0         Asia   \n3                  AFG   38041757.0         Asia   \n4                  AFG   38041757.0         Asia   \n\n   Cumulative_number_for_14_days_of_COVID-19_cases_per_100000  \n0                                           9.013779           \n1                                           7.052776           \n2                                           6.868768           \n3                                           6.868768           \n4                                           7.134266           ",
      "text/html": "<div>\n<style scoped>\n    .dataframe tbody tr th:only-of-type {\n        vertical-align: middle;\n    }\n\n    .dataframe tbody tr th {\n        vertical-align: top;\n    }\n\n    .dataframe thead th {\n        text-align: right;\n    }\n</style>\n<table border=\"1\" class=\"dataframe\">\n  <thead>\n    <tr style=\"text-align: right;\">\n      <th></th>\n      <th>dateRep</th>\n      <th>day</th>\n      <th>month</th>\n      <th>year</th>\n      <th>cases</th>\n      <th>deaths</th>\n      <th>countriesAndTerritories</th>\n      <th>geoId</th>\n      <th>countryterritoryCode</th>\n      <th>popData2019</th>\n      <th>continentExp</th>\n      <th>Cumulative_number_for_14_days_of_COVID-19_cases_per_100000</th>\n    </tr>\n  </thead>\n  <tbody>\n    <tr>\n      <th>0</th>\n      <td>14/12/2020</td>\n      <td>14</td>\n      <td>12</td>\n      <td>2020</td>\n      <td>746</td>\n      <td>6</td>\n      <td>Afghanistan</td>\n      <td>AF</td>\n      <td>AFG</td>\n      <td>38041757.0</td>\n      <td>Asia</td>\n      <td>9.013779</td>\n    </tr>\n    <tr>\n      <th>1</th>\n      <td>13/12/2020</td>\n      <td>13</td>\n      <td>12</td>\n      <td>2020</td>\n      <td>298</td>\n      <td>9</td>\n      <td>Afghanistan</td>\n      <td>AF</td>\n      <td>AFG</td>\n      <td>38041757.0</td>\n      <td>Asia</td>\n      <td>7.052776</td>\n    </tr>\n    <tr>\n      <th>2</th>\n      <td>12/12/2020</td>\n      <td>12</td>\n      <td>12</td>\n      <td>2020</td>\n      <td>113</td>\n      <td>11</td>\n      <td>Afghanistan</td>\n      <td>AF</td>\n      <td>AFG</td>\n      <td>38041757.0</td>\n      <td>Asia</td>\n      <td>6.868768</td>\n    </tr>\n    <tr>\n      <th>3</th>\n      <td>12/12/2020</td>\n      <td>12</td>\n      <td>12</td>\n      <td>2020</td>\n      <td>113</td>\n      <td>11</td>\n      <td>Afghanistan</td>\n      <td>AF</td>\n      <td>AFG</td>\n      <td>38041757.0</td>\n      <td>Asia</td>\n      <td>6.868768</td>\n    </tr>\n    <tr>\n      <th>4</th>\n      <td>11/12/2020</td>\n      <td>11</td>\n      <td>12</td>\n      <td>2020</td>\n      <td>63</td>\n      <td>10</td>\n      <td>Afghanistan</td>\n      <td>AF</td>\n      <td>AFG</td>\n      <td>38041757.0</td>\n      <td>Asia</td>\n      <td>7.134266</td>\n    </tr>\n  </tbody>\n</table>\n</div>"
     },
     "execution_count": 222,
     "metadata": {},
     "output_type": "execute_result"
    }
   ],
   "source": [
    "data = pd.read_csv('ECDCCases.csv')\n",
    "data.head()"
   ],
   "metadata": {
    "collapsed": false,
    "pycharm": {
     "name": "#%%\n"
    }
   }
  },
  {
   "cell_type": "markdown",
   "source": [
    "### Задание 2. Проверка данных на пропущенные значения и предобработка"
   ],
   "metadata": {
    "collapsed": false,
    "pycharm": {
     "name": "#%% md\n"
    }
   }
  },
  {
   "cell_type": "code",
   "execution_count": 223,
   "outputs": [
    {
     "name": "stdout",
     "output_type": "stream",
     "text": [
      " dateRep : 0.0%\n",
      " day : 0.0%\n",
      " month : 0.0%\n",
      " year : 0.0%\n",
      " cases : 0.0%\n",
      " deaths : 0.0%\n",
      " countriesAndTerritories : 0.0%\n",
      " geoId : 0.44%\n",
      " countryterritoryCode : 0.2%\n",
      " popData2019 : 0.2%\n",
      " continentExp : 0.0%\n",
      " Cumulative_number_for_14_days_of_COVID-19_cases_per_100000 : 4.65%\n"
     ]
    }
   ],
   "source": [
    "for column in data.columns:\n",
    "    missing = np.mean(data[column].isna()*100)\n",
    "    print(f\" {column} : {round(missing, 2)}%\")"
   ],
   "metadata": {
    "collapsed": false,
    "pycharm": {
     "name": "#%%\n"
    }
   }
  },
  {
   "cell_type": "code",
   "execution_count": 224,
   "outputs": [
    {
     "name": "stdout",
     "output_type": "stream",
     "text": [
      " dateRep : 0.0%\n",
      " day : 0.0%\n",
      " month : 0.0%\n",
      " year : 0.0%\n",
      " cases : 0.0%\n",
      " deaths : 0.0%\n",
      " countriesAndTerritories : 0.0%\n",
      " countryterritoryCode : 0.0%\n",
      " popData2019 : 0.0%\n",
      " continentExp : 0.0%\n"
     ]
    }
   ],
   "source": [
    "data = data.drop(['Cumulative_number_for_14_days_of_COVID-19_cases_per_100000', 'geoId'], axis=1)\n",
    "\n",
    "c_column = 'countryterritoryCode'\n",
    "n_column = 'popData2019'\n",
    "data[c_column] = data[c_column].fillna('other')\n",
    "data[n_column] = data[n_column].fillna(np.mean(data[n_column]))\n",
    "\n",
    "for column in data.columns:\n",
    "    missing = np.mean(data[column].isna()*100)\n",
    "    print(f\" {column} : {round(missing, 2)}%\")"
   ],
   "metadata": {
    "collapsed": false,
    "pycharm": {
     "name": "#%%\n"
    }
   }
  },
  {
   "cell_type": "markdown",
   "metadata": {
    "pycharm": {
     "name": "#%% md\n"
    }
   },
   "source": [
    "### Задание 3. Статистика по данным"
   ]
  },
  {
   "cell_type": "code",
   "execution_count": 225,
   "outputs": [
    {
     "data": {
      "text/plain": "                day         month          year          cases        deaths  \\\ncount  61904.000000  61904.000000  61904.000000   61904.000000  61904.000000   \nmean      15.629232      7.067104   2019.998918    1155.079026     26.053987   \nstd        8.841624      2.954816      0.032881    6779.010824    131.222948   \nmin        1.000000      1.000000   2019.000000   -8261.000000  -1918.000000   \n25%        8.000000      5.000000   2020.000000       0.000000      0.000000   \n50%       15.000000      7.000000   2020.000000      15.000000      0.000000   \n75%       23.000000     10.000000   2020.000000     273.000000      4.000000   \nmax       31.000000     12.000000   2020.000000  234633.000000   4928.000000   \n\n        popData2019  \ncount  6.190400e+04  \nmean   4.098628e+07  \nstd    1.529724e+08  \nmin    8.150000e+02  \n25%    1.324820e+06  \n50%    7.813207e+06  \n75%    2.860872e+07  \nmax    1.433784e+09  ",
      "text/html": "<div>\n<style scoped>\n    .dataframe tbody tr th:only-of-type {\n        vertical-align: middle;\n    }\n\n    .dataframe tbody tr th {\n        vertical-align: top;\n    }\n\n    .dataframe thead th {\n        text-align: right;\n    }\n</style>\n<table border=\"1\" class=\"dataframe\">\n  <thead>\n    <tr style=\"text-align: right;\">\n      <th></th>\n      <th>day</th>\n      <th>month</th>\n      <th>year</th>\n      <th>cases</th>\n      <th>deaths</th>\n      <th>popData2019</th>\n    </tr>\n  </thead>\n  <tbody>\n    <tr>\n      <th>count</th>\n      <td>61904.000000</td>\n      <td>61904.000000</td>\n      <td>61904.000000</td>\n      <td>61904.000000</td>\n      <td>61904.000000</td>\n      <td>6.190400e+04</td>\n    </tr>\n    <tr>\n      <th>mean</th>\n      <td>15.629232</td>\n      <td>7.067104</td>\n      <td>2019.998918</td>\n      <td>1155.079026</td>\n      <td>26.053987</td>\n      <td>4.098628e+07</td>\n    </tr>\n    <tr>\n      <th>std</th>\n      <td>8.841624</td>\n      <td>2.954816</td>\n      <td>0.032881</td>\n      <td>6779.010824</td>\n      <td>131.222948</td>\n      <td>1.529724e+08</td>\n    </tr>\n    <tr>\n      <th>min</th>\n      <td>1.000000</td>\n      <td>1.000000</td>\n      <td>2019.000000</td>\n      <td>-8261.000000</td>\n      <td>-1918.000000</td>\n      <td>8.150000e+02</td>\n    </tr>\n    <tr>\n      <th>25%</th>\n      <td>8.000000</td>\n      <td>5.000000</td>\n      <td>2020.000000</td>\n      <td>0.000000</td>\n      <td>0.000000</td>\n      <td>1.324820e+06</td>\n    </tr>\n    <tr>\n      <th>50%</th>\n      <td>15.000000</td>\n      <td>7.000000</td>\n      <td>2020.000000</td>\n      <td>15.000000</td>\n      <td>0.000000</td>\n      <td>7.813207e+06</td>\n    </tr>\n    <tr>\n      <th>75%</th>\n      <td>23.000000</td>\n      <td>10.000000</td>\n      <td>2020.000000</td>\n      <td>273.000000</td>\n      <td>4.000000</td>\n      <td>2.860872e+07</td>\n    </tr>\n    <tr>\n      <th>max</th>\n      <td>31.000000</td>\n      <td>12.000000</td>\n      <td>2020.000000</td>\n      <td>234633.000000</td>\n      <td>4928.000000</td>\n      <td>1.433784e+09</td>\n    </tr>\n  </tbody>\n</table>\n</div>"
     },
     "execution_count": 225,
     "metadata": {},
     "output_type": "execute_result"
    }
   ],
   "source": [
    "data.describe()"
   ],
   "metadata": {
    "collapsed": false,
    "pycharm": {
     "name": "#%%\n"
    }
   }
  },
  {
   "cell_type": "code",
   "execution_count": 226,
   "outputs": [
    {
     "name": "stdout",
     "output_type": "stream",
     "text": [
      "Countries: Argentina, Ecuador, Mexico, Peru, United_States_of_America\n",
      "Count day: 11\n"
     ]
    }
   ],
   "source": [
    "print(\"Countries: \" + \", \".join(data[data.deaths > 3000].countriesAndTerritories.unique()))\n",
    "print(f\"Count day: {len(data[data.deaths > 3000])}\")"
   ],
   "metadata": {
    "collapsed": false,
    "pycharm": {
     "name": "#%%\n"
    }
   }
  },
  {
   "cell_type": "markdown",
   "source": [
    "### Задание 4. Дублированные данные и их удаление"
   ],
   "metadata": {
    "collapsed": false,
    "pycharm": {
     "name": "#%% md\n"
    }
   }
  },
  {
   "cell_type": "code",
   "execution_count": 227,
   "outputs": [
    {
     "name": "stdout",
     "output_type": "stream",
     "text": [
      "Count of duplication: 4\n"
     ]
    },
    {
     "data": {
      "text/plain": "          dateRep  day  month  year  cases  deaths countriesAndTerritories  \\\n3      12/12/2020   12     12  2020    113      11             Afghanistan   \n218    12/05/2020   12      5  2020    285       2             Afghanistan   \n48010  29/05/2020   29      5  2020      0       0             Saint_Lucia   \n48073  28/03/2020   28      3  2020      0       0             Saint_Lucia   \n\n      countryterritoryCode  popData2019 continentExp  \n3                      AFG   38041757.0         Asia  \n218                    AFG   38041757.0         Asia  \n48010                  LCA     182795.0      America  \n48073                  LCA     182795.0      America  ",
      "text/html": "<div>\n<style scoped>\n    .dataframe tbody tr th:only-of-type {\n        vertical-align: middle;\n    }\n\n    .dataframe tbody tr th {\n        vertical-align: top;\n    }\n\n    .dataframe thead th {\n        text-align: right;\n    }\n</style>\n<table border=\"1\" class=\"dataframe\">\n  <thead>\n    <tr style=\"text-align: right;\">\n      <th></th>\n      <th>dateRep</th>\n      <th>day</th>\n      <th>month</th>\n      <th>year</th>\n      <th>cases</th>\n      <th>deaths</th>\n      <th>countriesAndTerritories</th>\n      <th>countryterritoryCode</th>\n      <th>popData2019</th>\n      <th>continentExp</th>\n    </tr>\n  </thead>\n  <tbody>\n    <tr>\n      <th>3</th>\n      <td>12/12/2020</td>\n      <td>12</td>\n      <td>12</td>\n      <td>2020</td>\n      <td>113</td>\n      <td>11</td>\n      <td>Afghanistan</td>\n      <td>AFG</td>\n      <td>38041757.0</td>\n      <td>Asia</td>\n    </tr>\n    <tr>\n      <th>218</th>\n      <td>12/05/2020</td>\n      <td>12</td>\n      <td>5</td>\n      <td>2020</td>\n      <td>285</td>\n      <td>2</td>\n      <td>Afghanistan</td>\n      <td>AFG</td>\n      <td>38041757.0</td>\n      <td>Asia</td>\n    </tr>\n    <tr>\n      <th>48010</th>\n      <td>29/05/2020</td>\n      <td>29</td>\n      <td>5</td>\n      <td>2020</td>\n      <td>0</td>\n      <td>0</td>\n      <td>Saint_Lucia</td>\n      <td>LCA</td>\n      <td>182795.0</td>\n      <td>America</td>\n    </tr>\n    <tr>\n      <th>48073</th>\n      <td>28/03/2020</td>\n      <td>28</td>\n      <td>3</td>\n      <td>2020</td>\n      <td>0</td>\n      <td>0</td>\n      <td>Saint_Lucia</td>\n      <td>LCA</td>\n      <td>182795.0</td>\n      <td>America</td>\n    </tr>\n  </tbody>\n</table>\n</div>"
     },
     "execution_count": 227,
     "metadata": {},
     "output_type": "execute_result"
    }
   ],
   "source": [
    "print(f'Count of duplication: {len(data[data.duplicated()])}')\n",
    "data[data.duplicated()]"
   ],
   "metadata": {
    "collapsed": false,
    "pycharm": {
     "name": "#%%\n"
    }
   }
  },
  {
   "cell_type": "code",
   "execution_count": 228,
   "outputs": [
    {
     "name": "stdout",
     "output_type": "stream",
     "text": [
      "Count of duplication: 0\n"
     ]
    }
   ],
   "source": [
    "data = data.drop_duplicates()\n",
    "print(f'Count of duplication: {len(data[data.duplicated()])}')"
   ],
   "metadata": {
    "collapsed": false,
    "pycharm": {
     "name": "#%%\n"
    }
   }
  },
  {
   "cell_type": "markdown",
   "source": [
    "### Задание 5. Загрузка данных и t-критерий Стьюдента"
   ],
   "metadata": {
    "collapsed": false,
    "pycharm": {
     "name": "#%% md\n"
    }
   }
  },
  {
   "cell_type": "code",
   "execution_count": 229,
   "outputs": [
    {
     "data": {
      "text/plain": "      bmi     region\n0  22.705  northwest\n1  28.880  northwest\n2  27.740  northwest\n3  25.840  northwest\n4  28.025  northwest",
      "text/html": "<div>\n<style scoped>\n    .dataframe tbody tr th:only-of-type {\n        vertical-align: middle;\n    }\n\n    .dataframe tbody tr th {\n        vertical-align: top;\n    }\n\n    .dataframe thead th {\n        text-align: right;\n    }\n</style>\n<table border=\"1\" class=\"dataframe\">\n  <thead>\n    <tr style=\"text-align: right;\">\n      <th></th>\n      <th>bmi</th>\n      <th>region</th>\n    </tr>\n  </thead>\n  <tbody>\n    <tr>\n      <th>0</th>\n      <td>22.705</td>\n      <td>northwest</td>\n    </tr>\n    <tr>\n      <th>1</th>\n      <td>28.880</td>\n      <td>northwest</td>\n    </tr>\n    <tr>\n      <th>2</th>\n      <td>27.740</td>\n      <td>northwest</td>\n    </tr>\n    <tr>\n      <th>3</th>\n      <td>25.840</td>\n      <td>northwest</td>\n    </tr>\n    <tr>\n      <th>4</th>\n      <td>28.025</td>\n      <td>northwest</td>\n    </tr>\n  </tbody>\n</table>\n</div>"
     },
     "execution_count": 229,
     "metadata": {},
     "output_type": "execute_result"
    }
   ],
   "source": [
    "data = pd.read_csv('bmi.csv')\n",
    "data.head()"
   ],
   "metadata": {
    "collapsed": false,
    "pycharm": {
     "name": "#%%\n"
    }
   }
  },
  {
   "cell_type": "code",
   "execution_count": 230,
   "outputs": [],
   "source": [
    "north = data[data.region == 'northwest'].bmi\n",
    "south = data[data.region == 'southwest'].bmi"
   ],
   "metadata": {
    "collapsed": false,
    "pycharm": {
     "name": "#%%\n"
    }
   }
  },
  {
   "cell_type": "code",
   "execution_count": 231,
   "outputs": [
    {
     "name": "stdout",
     "output_type": "stream",
     "text": [
      "Критерий Шопиро-Уилка south: ShapiroResult(statistic=0.9949268698692322, pvalue=0.3629520535469055)\n",
      "Критерий Шопиро-Уилка north: ShapiroResult(statistic=0.9954646825790405, pvalue=0.4655335247516632)\n"
     ]
    }
   ],
   "source": [
    "res_south = sts.shapiro(south)\n",
    "res_north = sts.shapiro(north)\n",
    "print(f'Критерий Шопиро-Уилка south: {res_south}')\n",
    "print(f'Критерий Шопиро-Уилка north: {res_north}')"
   ],
   "metadata": {
    "collapsed": false,
    "pycharm": {
     "name": "#%%\n"
    }
   }
  },
  {
   "cell_type": "code",
   "execution_count": 232,
   "outputs": [
    {
     "name": "stdout",
     "output_type": "stream",
     "text": [
      "Критерий Бартлетта: BartlettResult(statistic=3.4000745256459286, pvalue=0.06519347353581818)\n"
     ]
    }
   ],
   "source": [
    "res = sts.bartlett(south, north)\n",
    "print(f'Критерий Бартлетта: {res}')"
   ],
   "metadata": {
    "collapsed": false,
    "pycharm": {
     "name": "#%%\n"
    }
   }
  },
  {
   "cell_type": "code",
   "execution_count": 233,
   "outputs": [
    {
     "name": "stdout",
     "output_type": "stream",
     "text": [
      "t-критерий Стьюдента: Ttest_indResult(statistic=3.2844171500398582, pvalue=0.001076958496307695)\n"
     ]
    }
   ],
   "source": [
    "t_res = sts.ttest_ind(south, north)\n",
    "print(f't-критерий Стьюдента: {t_res}')"
   ],
   "metadata": {
    "collapsed": false,
    "pycharm": {
     "name": "#%%\n"
    }
   }
  },
  {
   "cell_type": "markdown",
   "source": [
    "### Задание 6. Критерий Хи-квадрат для проверки равномерности"
   ],
   "metadata": {
    "collapsed": false,
    "pycharm": {
     "name": "#%% md\n"
    }
   }
  },
  {
   "cell_type": "code",
   "execution_count": 234,
   "outputs": [
    {
     "data": {
      "text/plain": "   n  num  reference\n0  1   97        100\n1  2   98        100\n2  3  109        100\n3  4   95        100\n4  5   97        100\n5  6  104        100",
      "text/html": "<div>\n<style scoped>\n    .dataframe tbody tr th:only-of-type {\n        vertical-align: middle;\n    }\n\n    .dataframe tbody tr th {\n        vertical-align: top;\n    }\n\n    .dataframe thead th {\n        text-align: right;\n    }\n</style>\n<table border=\"1\" class=\"dataframe\">\n  <thead>\n    <tr style=\"text-align: right;\">\n      <th></th>\n      <th>n</th>\n      <th>num</th>\n      <th>reference</th>\n    </tr>\n  </thead>\n  <tbody>\n    <tr>\n      <th>0</th>\n      <td>1</td>\n      <td>97</td>\n      <td>100</td>\n    </tr>\n    <tr>\n      <th>1</th>\n      <td>2</td>\n      <td>98</td>\n      <td>100</td>\n    </tr>\n    <tr>\n      <th>2</th>\n      <td>3</td>\n      <td>109</td>\n      <td>100</td>\n    </tr>\n    <tr>\n      <th>3</th>\n      <td>4</td>\n      <td>95</td>\n      <td>100</td>\n    </tr>\n    <tr>\n      <th>4</th>\n      <td>5</td>\n      <td>97</td>\n      <td>100</td>\n    </tr>\n    <tr>\n      <th>5</th>\n      <td>6</td>\n      <td>104</td>\n      <td>100</td>\n    </tr>\n  </tbody>\n</table>\n</div>"
     },
     "execution_count": 234,
     "metadata": {},
     "output_type": "execute_result"
    }
   ],
   "source": [
    "data = pd.DataFrame({'n': [1, 2, 3, 4, 5, 6], 'num': [97, 98, 109, 95, 97, 104], 'reference': [100]*6})\n",
    "data"
   ],
   "metadata": {
    "collapsed": false,
    "pycharm": {
     "name": "#%%\n"
    }
   }
  },
  {
   "cell_type": "code",
   "execution_count": 235,
   "outputs": [
    {
     "name": "stdout",
     "output_type": "stream",
     "text": [
      "Критерий Хи-квадрата: Power_divergenceResult(statistic=1.44, pvalue=0.9198882077437889)\n"
     ]
    }
   ],
   "source": [
    "res_Xi = sts.chisquare(data['num'], data['reference'])\n",
    "print(f'Критерий Хи-квадрата: {res_Xi}')"
   ],
   "metadata": {
    "collapsed": false,
    "pycharm": {
     "name": "#%%\n"
    }
   }
  },
  {
   "cell_type": "markdown",
   "source": [
    "### Задание 7. Критерий Хи-квадрат для проверки зависимости переменных"
   ],
   "metadata": {
    "collapsed": false,
    "pycharm": {
     "name": "#%% md\n"
    }
   }
  },
  {
   "cell_type": "code",
   "execution_count": 236,
   "outputs": [
    {
     "data": {
      "text/plain": "                       Женат  Гражданский брак  Не состоит в отношениях\nПолный рабочий день     89                 80                       35\nЧастичная занятость       17                 22                       44\nВременно не работает      11                 20                       35\nНа домохозяйстве         43                 35                        6\nНа пенсии                 22                  6                        8\nУчёба                     1                  4                       22",
      "text/html": "<div>\n<style scoped>\n    .dataframe tbody tr th:only-of-type {\n        vertical-align: middle;\n    }\n\n    .dataframe tbody tr th {\n        vertical-align: top;\n    }\n\n    .dataframe thead th {\n        text-align: right;\n    }\n</style>\n<table border=\"1\" class=\"dataframe\">\n  <thead>\n    <tr style=\"text-align: right;\">\n      <th></th>\n      <th>Женат</th>\n      <th>Гражданский брак</th>\n      <th>Не состоит в отношениях</th>\n    </tr>\n  </thead>\n  <tbody>\n    <tr>\n      <th>Полный рабочий день</th>\n      <td>89</td>\n      <td>80</td>\n      <td>35</td>\n    </tr>\n    <tr>\n      <th>Частичная занятость</th>\n      <td>17</td>\n      <td>22</td>\n      <td>44</td>\n    </tr>\n    <tr>\n      <th>Временно не работает</th>\n      <td>11</td>\n      <td>20</td>\n      <td>35</td>\n    </tr>\n    <tr>\n      <th>На домохозяйстве</th>\n      <td>43</td>\n      <td>35</td>\n      <td>6</td>\n    </tr>\n    <tr>\n      <th>На пенсии</th>\n      <td>22</td>\n      <td>6</td>\n      <td>8</td>\n    </tr>\n    <tr>\n      <th>Учёба</th>\n      <td>1</td>\n      <td>4</td>\n      <td>22</td>\n    </tr>\n  </tbody>\n</table>\n</div>"
     },
     "execution_count": 236,
     "metadata": {},
     "output_type": "execute_result"
    }
   ],
   "source": [
    "data = pd.DataFrame({\n",
    "    'Женат': [89,17,11,43,22,1],\n",
    "    'Гражданский брак': [80,22,20,35,6,4],\n",
    "    'Не состоит в отношениях':[35,44,35,6,8,22]})\n",
    "data.index = ['Полный рабочий день','Частичная занятость','Временно не работает','На домохозяйстве','На пенсии','Учёба']\n",
    "data"
   ],
   "metadata": {
    "collapsed": false,
    "pycharm": {
     "name": "#%%\n"
    }
   }
  },
  {
   "cell_type": "code",
   "execution_count": 237,
   "outputs": [
    {
     "data": {
      "text/plain": "(122.29654948595365, 1.7291616900960234e-21, 10)"
     },
     "execution_count": 237,
     "metadata": {},
     "output_type": "execute_result"
    }
   ],
   "source": [
    "sts.chi2_contingency(data)[:3]"
   ],
   "metadata": {
    "collapsed": false,
    "pycharm": {
     "name": "#%%\n"
    }
   }
  },
  {
   "cell_type": "code",
   "execution_count": 237,
   "outputs": [],
   "source": [],
   "metadata": {
    "collapsed": false,
    "pycharm": {
     "name": "#%%\n"
    }
   }
  }
 ],
 "metadata": {
  "kernelspec": {
   "display_name": "Python 3 (ipykernel)",
   "language": "python",
   "name": "python3"
  },
  "language_info": {
   "codemirror_mode": {
    "name": "ipython",
    "version": 3
   },
   "file_extension": ".py",
   "mimetype": "text/x-python",
   "name": "python",
   "nbconvert_exporter": "python",
   "pygments_lexer": "ipython3",
   "version": "3.8.8"
  }
 },
 "nbformat": 4,
 "nbformat_minor": 1
}